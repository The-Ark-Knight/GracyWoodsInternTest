{
 "cells": [
  {
   "cell_type": "code",
   "id": "initial_id",
   "metadata": {
    "collapsed": true,
    "ExecuteTime": {
     "end_time": "2024-07-23T11:55:22.451655Z",
     "start_time": "2024-07-23T11:54:10.218472Z"
    }
   },
   "source": [
    "import pandas as pd\n",
    "import numpy as np\n",
    "from sklearn.preprocessing import OneHotEncoder, LabelEncoder\n",
    "from sklearn.preprocessing import OrdinalEncoder\n",
    "from sklearn.ensemble import RandomForestClassifier\n",
    "from sklearn.model_selection import train_test_split\n",
    "from sklearn.metrics import accuracy_score, classification_report\n",
    "from sklearn.preprocessing import OrdinalEncoder\n",
    "from sklearn.ensemble import RandomForestClassifier\n",
    "\n",
    "\n",
    "adult_df = pd.read_csv(\"adult.csv\", names=[\"age\", \"workclass\", \"fnlwgt\", \"education\", \"education-num\", \"marital-status\", \"occupation\", \"relationship\", \"race\", \"sex\", \"capital-gain\", \"capital-loss\", \"hours-per-week\", \"native-country\", \"income\"], skipinitialspace=True)\n",
    "\n",
    "# Split the dataset into features and target\n",
    "X = adult_df.drop('income', axis=1)\n",
    "y = adult_df['income']\n",
    "\n",
    "# Encode categorical variables\n",
    "encoder = OrdinalEncoder()\n",
    "X_encoded = encoder.fit_transform(X)\n",
    "\n",
    "# Calculate feature importances\n",
    "rf = RandomForestClassifier(n_estimators=1000, random_state=42)\n",
    "rf.fit(X_encoded, y)\n",
    "importances = rf.feature_importances_\n",
    "\n",
    "# Calculate cumulative importances\n",
    "cumulative_importances = np.cumsum(importances)\n",
    "\n",
    "# Find number of features for cumulative importance of 95%\n",
    "num_features = np.where(cumulative_importances > 0.95)[0][0] + 1\n",
    "\n",
    "# Extract the names of the most important features\n",
    "feature_names = list(X.columns)\n",
    "important_feature_names = [feature_names[i] for i in np.argsort(importances)[-num_features:]]\n",
    "\n",
    "# Extract the most important features\n",
    "important_features = X_encoded[:, np.argsort(importances)[-num_features:]]\n",
    "\n",
    "# Handle the skewed nature of the data\n",
    "positive_class = np.where(y == '>50K')[0]\n",
    "negative_class = np.where(y == '<=50K')[0]\n",
    "\n",
    "# Oversample the minority class\n",
    "negative_class = np.random.choice(negative_class, size=len(positive_class), replace=True)\n",
    "\n",
    "# Combine the positive and negative classes\n",
    "X_train = np.concatenate([important_features[positive_class], important_features[negative_class]], axis=0)\n",
    "y_train = np.concatenate([y[positive_class], y[negative_class]], axis=0)\n",
    "\n",
    "# Split the data into training and testing sets\n",
    "X_train, X_test, y_train, y_test = train_test_split(X_train, y_train, test_size=0.2, random_state=42)\n",
    "\n",
    "# Train the model using the most important features\n",
    "rf = RandomForestClassifier(n_estimators=100, random_state=42)\n",
    "rf.fit(X_train, y_train)\n",
    "\n",
    "# Make predictions on the testing set\n",
    "y_pred = rf.predict(X_test)\n",
    "\n",
    "# Calculate the accuracy score\n",
    "accuracy = accuracy_score(y_test, y_pred)\n",
    "\n",
    "# Calculate the classification report\n",
    "report = classification_report(y_test, y_pred, output_dict=True)\n",
    "\n",
    "# Print the accuracy score and the classification report\n",
    "print(\"Accuracy:\", accuracy)\n",
    "print(\"Classification Report:\\n\", report)"
   ],
   "outputs": [
    {
     "name": "stdout",
     "output_type": "stream",
     "text": [
      "Accuracy: 0.8418871533312081\n",
      "Classification Report:\n",
      " {'<=50K': {'precision': 0.8586525759577279, 'recall': 0.8217446270543616, 'f1-score': 0.8397932816537468, 'support': 1582.0}, '>50K': {'precision': 0.8262476894639557, 'recall': 0.862379421221865, 'f1-score': 0.8439269981120201, 'support': 1555.0}, 'accuracy': 0.8418871533312081, 'macro avg': {'precision': 0.8424501327108418, 'recall': 0.8420620241381133, 'f1-score': 0.8418601398828834, 'support': 3137.0}, 'weighted avg': {'precision': 0.8425895863186409, 'recall': 0.8418871533312081, 'f1-score': 0.8418423505388648, 'support': 3137.0}}\n"
     ]
    }
   ],
   "execution_count": 1
  },
  {
   "metadata": {
    "ExecuteTime": {
     "end_time": "2024-07-23T13:45:13.092410Z",
     "start_time": "2024-07-23T13:45:13.086250Z"
    }
   },
   "cell_type": "code",
   "source": "important_feature_names",
   "id": "1ac1be3bbc850120",
   "outputs": [
    {
     "data": {
      "text/plain": [
       "['capital-loss',\n",
       " 'race',\n",
       " 'native-country',\n",
       " 'marital-status',\n",
       " 'education',\n",
       " 'workclass',\n",
       " 'relationship',\n",
       " 'capital-gain',\n",
       " 'education-num',\n",
       " 'occupation',\n",
       " 'hours-per-week',\n",
       " 'age',\n",
       " 'fnlwgt']"
      ]
     },
     "execution_count": 4,
     "metadata": {},
     "output_type": "execute_result"
    }
   ],
   "execution_count": 4
  },
  {
   "metadata": {},
   "cell_type": "code",
   "outputs": [],
   "execution_count": null,
   "source": "",
   "id": "e28a876d29b57a64"
  }
 ],
 "metadata": {
  "kernelspec": {
   "display_name": "Python 3",
   "language": "python",
   "name": "python3"
  },
  "language_info": {
   "codemirror_mode": {
    "name": "ipython",
    "version": 2
   },
   "file_extension": ".py",
   "mimetype": "text/x-python",
   "name": "python",
   "nbconvert_exporter": "python",
   "pygments_lexer": "ipython2",
   "version": "2.7.6"
  }
 },
 "nbformat": 4,
 "nbformat_minor": 5
}
