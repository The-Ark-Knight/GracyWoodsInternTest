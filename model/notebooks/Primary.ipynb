{
 "cells": [
  {
   "cell_type": "code",
   "id": "initial_id",
   "metadata": {
    "collapsed": true,
    "ExecuteTime": {
     "end_time": "2024-07-23T11:34:17.483592Z",
     "start_time": "2024-07-23T11:32:59.392660Z"
    }
   },
   "source": [
    "import pandas as pd\n",
    "import numpy as np\n",
    "from sklearn.preprocessing import OneHotEncoder, LabelEncoder\n",
    "from sklearn.preprocessing import OrdinalEncoder\n",
    "from sklearn.ensemble import RandomForestClassifier\n",
    "from sklearn.model_selection import train_test_split\n",
    "from sklearn.metrics import accuracy_score, classification_report\n",
    "from sklearn.preprocessing import OrdinalEncoder\n",
    "from sklearn.ensemble import RandomForestClassifier\n",
    "\n",
    "\n",
    "adult_df = pd.read_csv(\".\\data\\adult.csv\", names=[\"age\", \"workclass\", \"fnlwgt\", \"education\", \"education-num\", \"marital-status\", \"occupation\", \"relationship\", \"race\", \"sex\", \"capital-gain\", \"capital-loss\", \"hours-per-week\", \"native-country\", \"income\"], skipinitialspace=True)\n",
    "\n",
    "# Split the dataset into features and target\n",
    "X = adult_df.drop('income', axis=1)\n",
    "y = adult_df['income']\n",
    "\n",
    "# Encode categorical variables\n",
    "encoder = OrdinalEncoder()\n",
    "X_encoded = encoder.fit_transform(X)\n",
    "\n",
    "# Calculate feature importances\n",
    "rf = RandomForestClassifier(n_estimators=1000, random_state=42)\n",
    "rf.fit(X_encoded, y)\n",
    "importances = rf.feature_importances_\n",
    "\n",
    "# Calculate cumulative importances\n",
    "cumulative_importances = np.cumsum(importances)\n",
    "\n",
    "# Find number of features for cumulative importance of 95%\n",
    "num_features = np.where(cumulative_importances > 0.95)[0][0] + 1\n",
    "\n",
    "# Extract the names of the most important features\n",
    "feature_names = list(X.columns)\n",
    "important_feature_names = [feature_names[i] for i in np.argsort(importances)[-num_features:]]\n",
    "\n",
    "# Extract the most important features\n",
    "important_features = X_encoded[:, np.argsort(importances)[-num_features:]]\n",
    "\n",
    "# Handle the skewed nature of the data\n",
    "positive_class = np.where(y == '>50K')[0]\n",
    "negative_class = np.where(y == '<=50K')[0]\n",
    "\n",
    "# Oversample the minority class\n",
    "negative_class = np.random.choice(negative_class, size=len(positive_class), replace=True)\n",
    "\n",
    "# Combine the positive and negative classes\n",
    "X_train = np.concatenate([important_features[positive_class], important_features[negative_class]], axis=0)\n",
    "y_train = np.concatenate([y[positive_class], y[negative_class]], axis=0)\n",
    "\n",
    "# Split the data into training and testing sets\n",
    "X_train, X_test, y_train, y_test = train_test_split(X_train, y_train, test_size=0.2, random_state=42)\n",
    "\n",
    "# Train the model using the most important features\n",
    "rf = RandomForestClassifier(n_estimators=100, random_state=42)\n",
    "rf.fit(X_train, y_train)\n",
    "\n",
    "# Make predictions on the testing set\n",
    "y_pred = rf.predict(X_test)\n",
    "\n",
    "# Calculate the accuracy score\n",
    "accuracy = accuracy_score(y_test, y_pred)\n",
    "\n",
    "# Calculate the classification report\n",
    "report = classification_report(y_test, y_pred, output_dict=True)\n",
    "\n",
    "# Print the accuracy score and the classification report\n",
    "print(\"Accuracy:\", accuracy)\n",
    "print(\"Classification Report:\\n\", report)"
   ],
   "outputs": [
    {
     "name": "stderr",
     "output_type": "stream",
     "text": [
      "<>:12: SyntaxWarning: invalid escape sequence '\\G'\n",
      "<>:12: SyntaxWarning: invalid escape sequence '\\G'\n",
      "C:\\Users\\abhis\\AppData\\Local\\Temp\\ipykernel_20220\\3886255062.py:12: SyntaxWarning: invalid escape sequence '\\G'\n",
      "  adult_df = pd.read_csv(\"A:\\\\00BaseProjects\\GracyWoodsMLCaseStudy\\data\\\\adult.data\", names=[\"age\", \"workclass\", \"fnlwgt\", \"education\", \"education-num\", \"marital-status\", \"occupation\", \"relationship\", \"race\", \"sex\", \"capital-gain\", \"capital-loss\", \"hours-per-week\", \"native-country\", \"income\"], skipinitialspace=True)\n"
     ]
    },
    {
     "name": "stdout",
     "output_type": "stream",
     "text": [
      "Accuracy: 0.846668791839337\n",
      "Classification Report:\n",
      " {'<=50K': {'precision': 0.8581652569941445, 'recall': 0.8337547408343868, 'f1-score': 0.8457839050977878, 'support': 1582.0}, '>50K': {'precision': 0.835625, 'recall': 0.8598070739549839, 'f1-score': 0.8475435816164818, 'support': 1555.0}, 'accuracy': 0.846668791839337, 'macro avg': {'precision': 0.8468951284970723, 'recall': 0.8467809073946854, 'f1-score': 0.8466637433571348, 'support': 3137.0}, 'weighted avg': {'precision': 0.8469921299218159, 'recall': 0.846668791839337, 'f1-score': 0.8466561706338316, 'support': 3137.0}}\n"
     ]
    }
   ],
   "execution_count": 3
  },
  {
   "metadata": {},
   "cell_type": "code",
   "outputs": [],
   "execution_count": null,
   "source": "",
   "id": "532cb366b4aa8dce"
  }
 ],
 "metadata": {
  "kernelspec": {
   "display_name": "Python 3",
   "language": "python",
   "name": "python3"
  },
  "language_info": {
   "codemirror_mode": {
    "name": "ipython",
    "version": 2
   },
   "file_extension": ".py",
   "mimetype": "text/x-python",
   "name": "python",
   "nbconvert_exporter": "python",
   "pygments_lexer": "ipython2",
   "version": "2.7.6"
  }
 },
 "nbformat": 4,
 "nbformat_minor": 5
}
