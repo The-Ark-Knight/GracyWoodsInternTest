{
 "cells": [
  {
   "metadata": {
    "ExecuteTime": {
     "end_time": "2024-07-23T16:56:16.445367Z",
     "start_time": "2024-07-23T16:56:14.356457Z"
    }
   },
   "cell_type": "code",
   "source": [
    "import pandas as pd\n",
    "import numpy as np\n",
    "from sklearn.preprocessing import OneHotEncoder, LabelEncoder\n",
    "from sklearn.preprocessing import OrdinalEncoder\n",
    "from sklearn.ensemble import RandomForestClassifier\n",
    "from sklearn.model_selection import train_test_split\n",
    "from sklearn.metrics import accuracy_score, classification_report"
   ],
   "id": "9e9a763f1d56a6e2",
   "outputs": [],
   "execution_count": 1
  },
  {
   "metadata": {
    "ExecuteTime": {
     "end_time": "2024-07-23T16:56:22.769125Z",
     "start_time": "2024-07-23T16:56:16.447385Z"
    }
   },
   "cell_type": "code",
   "source": [
    "from sklearn.preprocessing import OrdinalEncoder\n",
    "from sklearn.ensemble import RandomForestClassifier\n",
    "\n",
    "# Load the dataset\n",
    "adult_df = pd.read_csv(\"https://archive.ics.uci.edu/ml/machine-learning-databases/adult/adult.data\", names=[\"age\", \"workclass\", \"fnlwgt\", \"education\", \"education-num\", \"marital-status\", \n",
    "\"occupation\", \"relationship\", \"race\", \"sex\", \"capital-gain\", \"capital-loss\", \"hours-per-week\", \"native-country\", \"income\"], skipinitialspace=True)\n",
    "\n",
    "# Split the dataset into features and target\n",
    "X = adult_df.drop('income', axis=1)\n",
    "y = adult_df['income']\n",
    "\n",
    "# Encode categorical variables\n",
    "encoder = OrdinalEncoder()\n",
    "X_encoded = encoder.fit_transform(X)\n",
    "\n",
    "# Calculate feature importances\n",
    "rf = RandomForestClassifier(n_estimators=100, random_state=42)\n",
    "rf.fit(X_encoded, y)\n",
    "importances = rf.feature_importances_\n",
    "\n",
    "# Calculate cumulative importances\n",
    "cumulative_importances = np.cumsum(importances)\n",
    "\n",
    "# Find number of features for cumulative importance of 95%\n",
    "num_features = np.where(cumulative_importances > 0.95)[0][0] + 1\n",
    "\n",
    "# Extract the names of the most important features\n",
    "feature_names = list(X.columns)\n",
    "important_feature_names = [feature_names[i] for i in np.argsort(importances)[-num_features:]]\n",
    "\n",
    "# Extract the most important features\n",
    "important_features = X_encoded[:, np.argsort(importances)[-num_features:]]"
   ],
   "id": "281fa122ec7fa43",
   "outputs": [],
   "execution_count": 2
  },
  {
   "metadata": {
    "ExecuteTime": {
     "end_time": "2024-07-23T17:06:03.206260Z",
     "start_time": "2024-07-23T17:05:00.924962Z"
    }
   },
   "cell_type": "code",
   "source": [
    "# Extract the most important features\n",
    "important_features = X_encoded[:, np.argsort(importances)[-num_features:]]\n",
    "\n",
    "# Handle the skewed nature of the data\n",
    "positive_class = np.where(y == '>50K')[0]\n",
    "negative_class = np.where(y == '<=50K')[0]\n",
    "\n",
    "# Oversample the minority class\n",
    "negative_class = np.random.choice(negative_class, size=len(positive_class), replace=True)\n",
    "\n",
    "# Combine the positive and negative classes\n",
    "X_train = np.concatenate([important_features[positive_class], important_features[negative_class]], axis=0)\n",
    "y_train = np.concatenate([y[positive_class], y[negative_class]], axis=0)\n",
    "\n",
    "# Split the data into training and testing sets\n",
    "X_train, X_test, y_train, y_test = train_test_split(X_train, y_train, test_size=0.2, random_state=42)\n",
    "\n",
    "# Train the model using the most important features\n",
    "rf = RandomForestClassifier(n_estimators=5000, random_state=84)\n",
    "rf.fit(X_train, y_train)\n",
    "\n",
    "# Make predictions on the testing set\n",
    "y_pred = rf.predict(X_test)\n",
    "\n",
    "# Calculate the accuracy score\n",
    "accuracy = accuracy_score(y_test, y_pred)\n",
    "\n",
    "# Calculate the classification report\n",
    "report = classification_report(y_test, y_pred, output_dict=True)\n",
    "\n",
    "# Print the accuracy score and the classification report\n",
    "print(\"Accuracy:\", accuracy)\n",
    "print(\"Classification Report:\\n\", report)"
   ],
   "id": "35bad1bd90def6a3",
   "outputs": [
    {
     "name": "stdout",
     "output_type": "stream",
     "text": [
      "Accuracy: 0.8476251195409628\n",
      "Classification Report:\n",
      " {'<=50K': {'precision': 0.857976653696498, 'recall': 0.8362831858407079, 'f1-score': 0.8469910371318822, 'support': 1582.0}, '>50K': {'precision': 0.8376175548589342, 'recall': 0.8591639871382637, 'f1-score': 0.8482539682539683, 'support': 1555.0}, 'accuracy': 0.8476251195409628, 'macro avg': {'precision': 0.8477971042777162, 'recall': 0.8477235864894859, 'f1-score': 0.8476225026929252, 'support': 3137.0}, 'weighted avg': {'precision': 0.8478847191436093, 'recall': 0.8476251195409628, 'f1-score': 0.8476170677008473, 'support': 3137.0}}\n"
     ]
    }
   ],
   "execution_count": 9
  },
  {
   "metadata": {
    "ExecuteTime": {
     "end_time": "2024-07-23T17:06:07.495119Z",
     "start_time": "2024-07-23T17:06:03.212333Z"
    }
   },
   "cell_type": "code",
   "source": [
    "from sklearn.preprocessing import OrdinalEncoder\n",
    "from sklearn.ensemble import RandomForestClassifier\n",
    "\n",
    "# Load the new dataset\n",
    "test_df = pd.read_csv(\"adult.test\", names=[\"age\", \"workclass\", \"fnlwgt\", \"education\", \"education-num\", \"marital-status\",\n",
    "\"occupation\", \"relationship\", \"race\", \"sex\", \"capital-gain\", \"capital-loss\", \"hours-per-week\", \"native-country\", \"income\"], skipinitialspace=True)\n",
    "test_df.drop(\"sex\", axis=1, inplace=True)\n",
    "\n",
    "# Split the new dataset into features and target\n",
    "X_new = test_df.drop('income', axis=1)\n",
    "y_new = test_df['income']\n",
    "y_new = y_new.str.replace('.', '')\n",
    "\n",
    "encoder_new = OrdinalEncoder()\n",
    "input_data_encoded = encoder_new.fit_transform(X_new)\n",
    "# Make a prediction using the trained model\n",
    "prediction = rf.predict(input_data_encoded)\n",
    "\n",
    "print(accuracy_score(y_new, prediction))\n",
    "print(classification_report(y_new, prediction, output_dict=True))"
   ],
   "id": "f28e35992bdcd0aa",
   "outputs": [
    {
     "name": "stdout",
     "output_type": "stream",
     "text": [
      "0.7640808304158221\n",
      "{'<=50K': {'precision': 0.7642356413725249, 'recall': 0.999437072778448, 'f1-score': 0.8661532564379552, 'support': 12435.0}, '>50K': {'precision': 0.631578947368421, 'recall': 0.0031201248049922, 'f1-score': 0.006209573091849935, 'support': 3846.0}, 'accuracy': 0.7640808304158221, 'macro avg': {'precision': 0.6979072943704729, 'recall': 0.5012785987917201, 'f1-score': 0.4361814147649025, 'support': 16281.0}, 'weighted avg': {'precision': 0.7328986445578461, 'recall': 0.7640808304158221, 'f1-score': 0.6630119625279299, 'support': 16281.0}}\n"
     ]
    }
   ],
   "execution_count": 10
  },
  {
   "metadata": {},
   "cell_type": "code",
   "outputs": [],
   "execution_count": null,
   "source": "",
   "id": "f2561a84ac3f3f47"
  }
 ],
 "metadata": {
  "kernelspec": {
   "display_name": "Python 3",
   "language": "python",
   "name": "python3"
  },
  "language_info": {
   "codemirror_mode": {
    "name": "ipython",
    "version": 2
   },
   "file_extension": ".py",
   "mimetype": "text/x-python",
   "name": "python",
   "nbconvert_exporter": "python",
   "pygments_lexer": "ipython2",
   "version": "2.7.6"
  }
 },
 "nbformat": 4,
 "nbformat_minor": 5
}
